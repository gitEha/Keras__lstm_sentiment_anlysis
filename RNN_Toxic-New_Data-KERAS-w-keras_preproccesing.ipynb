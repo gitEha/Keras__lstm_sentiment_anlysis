{
 "cells": [
  {
   "cell_type": "code",
   "execution_count": 1,
   "metadata": {},
   "outputs": [
    {
     "name": "stderr",
     "output_type": "stream",
     "text": [
      "e:\\users\\ranet\\anaconda3\\lib\\site-packages\\h5py\\__init__.py:36: FutureWarning: Conversion of the second argument of issubdtype from `float` to `np.floating` is deprecated. In future, it will be treated as `np.float64 == np.dtype(float).type`.\n",
      "  from ._conv import register_converters as _register_converters\n",
      "Using TensorFlow backend.\n"
     ]
    }
   ],
   "source": [
    "import numpy as np \n",
    "\n",
    "from keras.preprocessing.text import Tokenizer, text_to_word_sequence\n",
    "from keras.preprocessing.sequence import pad_sequences\n",
    "from keras.models import Sequential\n",
    "from keras.layers import Dense, Embedding, LSTM, Bidirectional\n",
    "from keras.utils.np_utils import to_categorical\n",
    "\n",
    "from sklearn.utils import shuffle\n",
    "from process_data import process_document\n",
    "import json"
   ]
  },
  {
   "cell_type": "code",
   "execution_count": 2,
   "metadata": {},
   "outputs": [],
   "source": [
    "data = json.load(open('toxic_data2.json', encoding='UTF8'))\n",
    "\n",
    "x_train = data['x_train']\n",
    "x_test = data['x_test']\n",
    "y_train = data['y_train']\n",
    "y_test = data['y_test']"
   ]
  },
  {
   "cell_type": "code",
   "execution_count": 3,
   "metadata": {},
   "outputs": [
    {
     "name": "stdout",
     "output_type": "stream",
     "text": [
      "9944 len of x train\n",
      "9944 len of y train\n",
      "2487 len of x test\n",
      "2487 len of y test\n",
      "Kohalikud venelased ehk saavadki kuidagi oma eraisiku tasemel ja nÃ¤gemusega hakkama aga kui riik oma kohaolu ignoreerib siis kohalikud hakkavad otsima neid kes neid EI ignereeri ja ulatab nii vajaliku abikÃ¤e.... Loodus tÃ¼hja kohta ei salli . Kui Eesti jaoks on Ida-Virumaa kui regioon pohh-nahh siis ehk siis silmad avanevad kui korraga juhtmed seinast vÃ¤ljatÃµmmatass? ja kus ã¼lejã¤ã¤nud eesti tã¶ã¶tajaskond on kes teenib miinimumi lã¤hedast palka ? istute mã¶kuna oma peldikus ja vahite ukseaugust pealt ? vã¤hemalt ametiã¼hingud peaksid kãµik nagu ã¼ks mees vã¤ljas olema aga nemad soojendavad kotte kuskil kontoora nurgas ja teevad valitsusega isiklikke diile .... aivo peterson 09 09 62.181.220.227\n",
      "105\n",
      "HÃ¤lvik on hÃ¤lvik.  tånis 13 09 194.150.65.37\n",
      "105\n",
      "Number of 100: 5358\n",
      "Number of 105: 4586\n",
      "Number of 100 in val: 1348\n",
      "Number of 105 in val: 1139\n",
      "Mean lengths of comments: 50.466311343523735\n",
      "Mean lengths of comments with the last 25 longest comments removed: 49.257586450247004\n"
     ]
    }
   ],
   "source": [
    "print(len(x_train), 'len of x train')\n",
    "print(len(y_train), 'len of y train')\n",
    "\n",
    "print(len(x_test), 'len of x test')\n",
    "print(len(y_test), 'len of y test')\n",
    "\n",
    "print(x_train[0])\n",
    "print(y_train[0])\n",
    "\n",
    "print(x_test[0])\n",
    "print(y_test[0])\n",
    "\n",
    "print(\"Number of 100: {}\".format(y_train.count(\"100\"))) #100 is improper\n",
    "print(\"Number of 105: {}\".format(y_train.count(\"105\")))\n",
    "\n",
    "print(\"Number of 100 in val: {}\".format(y_test.count(\"100\"))) # 100 is improper\n",
    "print(\"Number of 105 in val: {}\".format(y_test.count(\"105\")))\n",
    "\n",
    "X = x_train\n",
    "X_val = x_test\n",
    "\n",
    "y = [0 if int(y) == 100 else 1 for y in y_train]\n",
    "y_val = [0 if int(y) == 100 else 1 for y in y_test]\n",
    "\n",
    "\n",
    "from statistics import mean\n",
    "lengths = [len(x_ex.split(' ')) for x_ex in X]\n",
    "lengths.sort()\n",
    "print(\"Mean lengths of comments: {}\".format(mean(lengths)))\n",
    "print(\"Mean lengths of comments with the last 25 longest comments removed: {}\"\n",
    "      .format(mean(lengths[:-25])))"
   ]
  },
  {
   "cell_type": "code",
   "execution_count": 4,
   "metadata": {
    "scrolled": true
   },
   "outputs": [
    {
     "name": "stdout",
     "output_type": "stream",
     "text": [
      "75162\n",
      "HÃ¤lvik on hÃ¤lvik.  tånis 13 09 194.150.65.37\n",
      "[0 0 0 0 0 0 0 0 0 0 0 0 0 0 0 0 0 0 0 0 0 0 0 0 0 0 0 0 0 0 0 0 0 0 0 0 0\n",
      " 0 0 0 0 0 0 0 0 0 0 0 0 0 0 0 0 0 0 0 0 0 0 2]\n",
      "Kohalikud venelased ehk saavadki kuidagi oma eraisiku tasemel ja nÃ¤gemusega hakkama aga kui riik oma kohaolu ignoreerib siis kohalikud hakkavad otsima neid kes neid EI ignereeri ja ulatab nii vajaliku abikÃ¤e.... Loodus tÃ¼hja kohta ei salli . Kui Eesti jaoks on Ida-Virumaa kui regioon pohh-nahh siis ehk siis silmad avanevad kui korraga juhtmed seinast vÃ¤ljatÃµmmatass? ja kus ã¼lejã¤ã¤nud eesti tã¶ã¶tajaskond on kes teenib miinimumi lã¤hedast palka ? istute mã¶kuna oma peldikus ja vahite ukseaugust pealt ? vã¤hemalt ametiã¼hingud peaksid kãµik nagu ã¼ks mees vã¤ljas olema aga nemad soojendavad kotte kuskil kontoora nurgas ja teevad valitsusega isiklikke diile .... aivo peterson 09 09 62.181.220.227\n",
      "[ 0  0  0  0  0  0  0  0  0  0  0  0  0  0  0  0  0  0  0  0  0  0  0  0\n",
      "  0  0  0  0  0 10  1  9  5 10  7 58 12 58  3  1 17  3  5 11  2  5  7  7\n",
      "  5  1 53 11  2 12 10  1 30 24  9  1]\n",
      "[1, 0, 1]\n",
      "[[0. 1.]\n",
      " [1. 0.]\n",
      " [0. 1.]]\n",
      "[1, 0, 0]\n",
      "[[0. 1.]\n",
      " [1. 0.]\n",
      " [1. 0.]]\n"
     ]
    }
   ],
   "source": [
    "vocab_size = 50000\n",
    "seq_len = 60\n",
    "\n",
    "tokenizer = Tokenizer(num_words=seq_len,\n",
    "                                   filters='!\"#$%&()*+,-./:;<=>?@[\\\\]^_`{|}~\\t\\n12345687890',\n",
    "                                   lower=True,\n",
    "                                   split=\" \",\n",
    "                                   char_level=False,\n",
    "                                   oov_token=None)\n",
    "\n",
    "\n",
    "tokenizer.fit_on_texts(X_val + X)\n",
    "print(len(tokenizer.word_index))\n",
    "\n",
    "X_tokenized = tokenizer.texts_to_sequences(X)\n",
    "X_val_tokenized = tokenizer.texts_to_sequences(X_val)\n",
    "\n",
    "X_tokenized = pad_sequences(X_tokenized, maxlen=seq_len)\n",
    "X_val_tokenized = pad_sequences(X_val_tokenized, maxlen=seq_len)\n",
    "\n",
    "print(X_val[0])\n",
    "print(X_val_tokenized[0])\n",
    "print(X[0])\n",
    "print(X_tokenized[0])\n",
    "\n",
    "\n",
    "print(y[0:3])\n",
    "y_oh = to_categorical(y, 2)\n",
    "print(y_oh[0:3])\n",
    "print(y_val[0:3])\n",
    "y_val_oh = to_categorical(y_val, 2)\n",
    "print(y_val_oh[0:3])"
   ]
  },
  {
   "cell_type": "code",
   "execution_count": 5,
   "metadata": {},
   "outputs": [
    {
     "name": "stderr",
     "output_type": "stream",
     "text": [
      "e:\\users\\ranet\\anaconda3\\lib\\site-packages\\ipykernel_launcher.py:5: UserWarning: The `dropout` argument is no longer support in `Embedding`. You can apply a `keras.layers.SpatialDropout1D` layer right after the `Embedding` layer to get the same behavior.\n",
      "  \"\"\"\n",
      "e:\\users\\ranet\\anaconda3\\lib\\site-packages\\ipykernel_launcher.py:6: UserWarning: Update your `LSTM` call to the Keras 2 API: `LSTM(32, dropout=0.4, recurrent_dropout=0.4)`\n",
      "  \n"
     ]
    },
    {
     "name": "stdout",
     "output_type": "stream",
     "text": [
      "_________________________________________________________________\n",
      "Layer (type)                 Output Shape              Param #   \n",
      "=================================================================\n",
      "embedding_1 (Embedding)      (None, 60, 64)            3200000   \n",
      "_________________________________________________________________\n",
      "bidirectional_1 (Bidirection (None, 64)                24832     \n",
      "_________________________________________________________________\n",
      "dense_1 (Dense)              (None, 2)                 130       \n",
      "=================================================================\n",
      "Total params: 3,224,962\n",
      "Trainable params: 3,224,962\n",
      "Non-trainable params: 0\n",
      "_________________________________________________________________\n",
      "None\n"
     ]
    }
   ],
   "source": [
    "embed_dim = 64\n",
    "lstm_out = 32\n",
    "\n",
    "model = Sequential()\n",
    "model.add(Embedding(vocab_size, embed_dim, input_length=seq_len, dropout=0.4))\n",
    "model.add(Bidirectional(LSTM(lstm_out, dropout_U=0.4, dropout_W=0.4)))\n",
    "model.add(Dense(2,activation='softmax'))\n",
    "model.compile(loss = 'categorical_crossentropy', optimizer='adam',metrics = ['accuracy'])\n",
    "print(model.summary())"
   ]
  },
  {
   "cell_type": "code",
   "execution_count": 6,
   "metadata": {},
   "outputs": [
    {
     "name": "stdout",
     "output_type": "stream",
     "text": [
      "Train on 9944 samples, validate on 2487 samples\n",
      "Epoch 1/50\n",
      "9944/9944 [==============================] - 19s 2ms/step - loss: 0.6837 - acc: 0.5513 - val_loss: 0.6751 - val_acc: 0.5762\n",
      "Epoch 2/50\n",
      "9944/9944 [==============================] - 15s 2ms/step - loss: 0.6792 - acc: 0.5624 - val_loss: 0.6723 - val_acc: 0.5830\n",
      "Epoch 3/50\n",
      "9944/9944 [==============================] - 15s 2ms/step - loss: 0.6768 - acc: 0.5686 - val_loss: 0.6714 - val_acc: 0.5786\n",
      "Epoch 4/50\n",
      "9944/9944 [==============================] - 16s 2ms/step - loss: 0.6756 - acc: 0.5706 - val_loss: 0.6734 - val_acc: 0.5862\n",
      "Epoch 5/50\n",
      "9944/9944 [==============================] - 15s 2ms/step - loss: 0.6745 - acc: 0.5739 - val_loss: 0.6722 - val_acc: 0.5690\n",
      "Epoch 6/50\n",
      "9944/9944 [==============================] - 15s 2ms/step - loss: 0.6727 - acc: 0.5762 - val_loss: 0.6732 - val_acc: 0.5653\n",
      "Epoch 7/50\n",
      "9944/9944 [==============================] - 15s 2ms/step - loss: 0.6722 - acc: 0.5790 - val_loss: 0.6719 - val_acc: 0.5758\n",
      "Epoch 8/50\n",
      "9944/9944 [==============================] - 15s 2ms/step - loss: 0.6719 - acc: 0.5881 - val_loss: 0.6728 - val_acc: 0.5802\n",
      "Epoch 9/50\n",
      "9944/9944 [==============================] - 15s 2ms/step - loss: 0.6710 - acc: 0.5831 - val_loss: 0.6723 - val_acc: 0.5830\n",
      "Epoch 10/50\n",
      "9944/9944 [==============================] - 15s 2ms/step - loss: 0.6705 - acc: 0.5848 - val_loss: 0.6730 - val_acc: 0.5842\n",
      "Epoch 11/50\n",
      "9944/9944 [==============================] - 16s 2ms/step - loss: 0.6698 - acc: 0.5894 - val_loss: 0.6728 - val_acc: 0.5762\n",
      "Epoch 12/50\n",
      "9944/9944 [==============================] - 16s 2ms/step - loss: 0.6692 - acc: 0.5888 - val_loss: 0.6728 - val_acc: 0.5895\n",
      "Epoch 13/50\n",
      "9944/9944 [==============================] - 15s 2ms/step - loss: 0.6698 - acc: 0.5900 - val_loss: 0.6724 - val_acc: 0.5842\n",
      "Epoch 14/50\n",
      "9944/9944 [==============================] - 16s 2ms/step - loss: 0.6670 - acc: 0.5947 - val_loss: 0.6727 - val_acc: 0.5818\n",
      "Epoch 15/50\n",
      "9944/9944 [==============================] - 15s 2ms/step - loss: 0.6668 - acc: 0.5928 - val_loss: 0.6724 - val_acc: 0.5830\n",
      "Epoch 16/50\n",
      "9944/9944 [==============================] - 15s 2ms/step - loss: 0.6673 - acc: 0.5922 - val_loss: 0.6720 - val_acc: 0.5802\n",
      "Epoch 17/50\n",
      "9944/9944 [==============================] - 15s 1ms/step - loss: 0.6661 - acc: 0.5969 - val_loss: 0.6737 - val_acc: 0.5887\n",
      "Epoch 18/50\n",
      "9944/9944 [==============================] - 15s 2ms/step - loss: 0.6646 - acc: 0.5978 - val_loss: 0.6727 - val_acc: 0.5810\n",
      "Epoch 19/50\n",
      "9944/9944 [==============================] - 15s 2ms/step - loss: 0.6654 - acc: 0.5943 - val_loss: 0.6724 - val_acc: 0.5778\n",
      "Epoch 20/50\n",
      "9944/9944 [==============================] - 15s 2ms/step - loss: 0.6650 - acc: 0.5978 - val_loss: 0.6727 - val_acc: 0.5802\n",
      "Epoch 21/50\n",
      "9944/9944 [==============================] - 16s 2ms/step - loss: 0.6641 - acc: 0.5980 - val_loss: 0.6718 - val_acc: 0.5818\n",
      "Epoch 22/50\n",
      "9944/9944 [==============================] - 15s 2ms/step - loss: 0.6631 - acc: 0.5964 - val_loss: 0.6724 - val_acc: 0.5830\n",
      "Epoch 23/50\n",
      "9944/9944 [==============================] - 15s 2ms/step - loss: 0.6627 - acc: 0.5996 - val_loss: 0.6721 - val_acc: 0.5826\n",
      "Epoch 24/50\n",
      "9944/9944 [==============================] - 15s 2ms/step - loss: 0.6614 - acc: 0.6046 - val_loss: 0.6726 - val_acc: 0.5762\n",
      "Epoch 25/50\n",
      "9944/9944 [==============================] - 15s 2ms/step - loss: 0.6611 - acc: 0.6034 - val_loss: 0.6727 - val_acc: 0.5814\n",
      "Epoch 26/50\n",
      "9944/9944 [==============================] - 15s 2ms/step - loss: 0.6602 - acc: 0.6023 - val_loss: 0.6723 - val_acc: 0.5875\n",
      "Epoch 27/50\n",
      "9944/9944 [==============================] - 15s 2ms/step - loss: 0.6609 - acc: 0.6009 - val_loss: 0.6730 - val_acc: 0.5818\n",
      "Epoch 28/50\n",
      "9944/9944 [==============================] - 15s 2ms/step - loss: 0.6592 - acc: 0.6062 - val_loss: 0.6725 - val_acc: 0.5858\n",
      "Epoch 29/50\n",
      "9944/9944 [==============================] - 15s 2ms/step - loss: 0.6573 - acc: 0.6102 - val_loss: 0.6739 - val_acc: 0.5830\n",
      "Epoch 30/50\n",
      "9944/9944 [==============================] - 15s 2ms/step - loss: 0.6572 - acc: 0.6114 - val_loss: 0.6729 - val_acc: 0.5826\n",
      "Epoch 31/50\n",
      "9944/9944 [==============================] - 16s 2ms/step - loss: 0.6561 - acc: 0.6120 - val_loss: 0.6722 - val_acc: 0.5790\n",
      "Epoch 32/50\n",
      "9944/9944 [==============================] - 15s 2ms/step - loss: 0.6563 - acc: 0.6079 - val_loss: 0.6731 - val_acc: 0.5762\n",
      "Epoch 33/50\n",
      "9944/9944 [==============================] - 16s 2ms/step - loss: 0.6548 - acc: 0.6091 - val_loss: 0.6744 - val_acc: 0.5806\n",
      "Epoch 34/50\n",
      "9944/9944 [==============================] - 16s 2ms/step - loss: 0.6532 - acc: 0.6160 - val_loss: 0.6753 - val_acc: 0.5794\n",
      "Epoch 35/50\n",
      "9944/9944 [==============================] - 15s 2ms/step - loss: 0.6538 - acc: 0.6160 - val_loss: 0.6752 - val_acc: 0.5782\n",
      "Epoch 36/50\n",
      "9944/9944 [==============================] - 15s 2ms/step - loss: 0.6521 - acc: 0.6156 - val_loss: 0.6761 - val_acc: 0.5834\n",
      "Epoch 37/50\n",
      "9944/9944 [==============================] - 16s 2ms/step - loss: 0.6518 - acc: 0.6135 - val_loss: 0.6759 - val_acc: 0.5875\n",
      "Epoch 38/50\n",
      "9944/9944 [==============================] - 15s 2ms/step - loss: 0.6528 - acc: 0.6164 - val_loss: 0.6759 - val_acc: 0.5846\n",
      "Epoch 39/50\n",
      "9944/9944 [==============================] - 15s 2ms/step - loss: 0.6506 - acc: 0.6179 - val_loss: 0.6752 - val_acc: 0.5778\n",
      "Epoch 40/50\n",
      "9944/9944 [==============================] - 15s 2ms/step - loss: 0.6501 - acc: 0.6187 - val_loss: 0.6753 - val_acc: 0.5854\n",
      "Epoch 41/50\n",
      "9944/9944 [==============================] - 15s 2ms/step - loss: 0.6480 - acc: 0.6225 - val_loss: 0.6769 - val_acc: 0.5790\n",
      "Epoch 42/50\n",
      "9944/9944 [==============================] - 15s 2ms/step - loss: 0.6478 - acc: 0.6251 - val_loss: 0.6774 - val_acc: 0.5778\n",
      "Epoch 43/50\n",
      "9944/9944 [==============================] - 15s 2ms/step - loss: 0.6473 - acc: 0.6206 - val_loss: 0.6785 - val_acc: 0.5742\n",
      "Epoch 44/50\n",
      "9944/9944 [==============================] - 16s 2ms/step - loss: 0.6453 - acc: 0.6276 - val_loss: 0.6788 - val_acc: 0.5850\n",
      "Epoch 45/50\n",
      "9944/9944 [==============================] - 15s 2ms/step - loss: 0.6437 - acc: 0.6334 - val_loss: 0.6801 - val_acc: 0.5746\n",
      "Epoch 46/50\n",
      "9944/9944 [==============================] - 16s 2ms/step - loss: 0.6431 - acc: 0.6332 - val_loss: 0.6820 - val_acc: 0.5714\n",
      "Epoch 47/50\n",
      "9944/9944 [==============================] - 15s 2ms/step - loss: 0.6418 - acc: 0.6287 - val_loss: 0.6796 - val_acc: 0.5814\n",
      "Epoch 48/50\n",
      "9944/9944 [==============================] - 15s 2ms/step - loss: 0.6412 - acc: 0.6327 - val_loss: 0.6803 - val_acc: 0.5818\n",
      "Epoch 49/50\n",
      "9944/9944 [==============================] - 15s 2ms/step - loss: 0.6383 - acc: 0.6367 - val_loss: 0.6795 - val_acc: 0.5766\n",
      "Epoch 50/50\n",
      "2048/9944 [=====>........................] - ETA: 11s - loss: 0.6289 - acc: 0.6470"
     ]
    },
    {
     "ename": "KeyboardInterrupt",
     "evalue": "",
     "output_type": "error",
     "traceback": [
      "\u001b[1;31m---------------------------------------------------------------------------\u001b[0m",
      "\u001b[1;31mKeyboardInterrupt\u001b[0m                         Traceback (most recent call last)",
      "\u001b[1;32m<ipython-input-6-93aa0790b2fe>\u001b[0m in \u001b[0;36m<module>\u001b[1;34m()\u001b[0m\n\u001b[0;32m      2\u001b[0m \u001b[0mbatch_size\u001b[0m \u001b[1;33m=\u001b[0m \u001b[1;36m128\u001b[0m\u001b[1;33m\u001b[0m\u001b[0m\n\u001b[0;32m      3\u001b[0m \u001b[1;33m\u001b[0m\u001b[0m\n\u001b[1;32m----> 4\u001b[1;33m \u001b[0mmodel\u001b[0m\u001b[1;33m.\u001b[0m\u001b[0mfit\u001b[0m\u001b[1;33m(\u001b[0m\u001b[0mX_tokenized\u001b[0m\u001b[1;33m,\u001b[0m \u001b[0my_oh\u001b[0m\u001b[1;33m,\u001b[0m \u001b[0mepochs\u001b[0m\u001b[1;33m=\u001b[0m\u001b[0mnum_epochs\u001b[0m\u001b[1;33m,\u001b[0m \u001b[0mbatch_size\u001b[0m\u001b[1;33m=\u001b[0m\u001b[0mbatch_size\u001b[0m\u001b[1;33m,\u001b[0m \u001b[0mverbose\u001b[0m\u001b[1;33m=\u001b[0m\u001b[1;36m1\u001b[0m\u001b[1;33m,\u001b[0m \u001b[0mvalidation_data\u001b[0m\u001b[1;33m=\u001b[0m\u001b[1;33m(\u001b[0m\u001b[0mX_val_tokenized\u001b[0m\u001b[1;33m,\u001b[0m \u001b[0my_val_oh\u001b[0m\u001b[1;33m)\u001b[0m\u001b[1;33m)\u001b[0m\u001b[1;33m\u001b[0m\u001b[0m\n\u001b[0m",
      "\u001b[1;32me:\\users\\ranet\\anaconda3\\lib\\site-packages\\keras\\models.py\u001b[0m in \u001b[0;36mfit\u001b[1;34m(self, x, y, batch_size, epochs, verbose, callbacks, validation_split, validation_data, shuffle, class_weight, sample_weight, initial_epoch, steps_per_epoch, validation_steps, **kwargs)\u001b[0m\n\u001b[0;32m    961\u001b[0m                               \u001b[0minitial_epoch\u001b[0m\u001b[1;33m=\u001b[0m\u001b[0minitial_epoch\u001b[0m\u001b[1;33m,\u001b[0m\u001b[1;33m\u001b[0m\u001b[0m\n\u001b[0;32m    962\u001b[0m                               \u001b[0msteps_per_epoch\u001b[0m\u001b[1;33m=\u001b[0m\u001b[0msteps_per_epoch\u001b[0m\u001b[1;33m,\u001b[0m\u001b[1;33m\u001b[0m\u001b[0m\n\u001b[1;32m--> 963\u001b[1;33m                               validation_steps=validation_steps)\n\u001b[0m\u001b[0;32m    964\u001b[0m \u001b[1;33m\u001b[0m\u001b[0m\n\u001b[0;32m    965\u001b[0m     def evaluate(self, x=None, y=None,\n",
      "\u001b[1;32me:\\users\\ranet\\anaconda3\\lib\\site-packages\\keras\\engine\\training.py\u001b[0m in \u001b[0;36mfit\u001b[1;34m(self, x, y, batch_size, epochs, verbose, callbacks, validation_split, validation_data, shuffle, class_weight, sample_weight, initial_epoch, steps_per_epoch, validation_steps, **kwargs)\u001b[0m\n\u001b[0;32m   1710\u001b[0m                               \u001b[0minitial_epoch\u001b[0m\u001b[1;33m=\u001b[0m\u001b[0minitial_epoch\u001b[0m\u001b[1;33m,\u001b[0m\u001b[1;33m\u001b[0m\u001b[0m\n\u001b[0;32m   1711\u001b[0m                               \u001b[0msteps_per_epoch\u001b[0m\u001b[1;33m=\u001b[0m\u001b[0msteps_per_epoch\u001b[0m\u001b[1;33m,\u001b[0m\u001b[1;33m\u001b[0m\u001b[0m\n\u001b[1;32m-> 1712\u001b[1;33m                               validation_steps=validation_steps)\n\u001b[0m\u001b[0;32m   1713\u001b[0m \u001b[1;33m\u001b[0m\u001b[0m\n\u001b[0;32m   1714\u001b[0m     def evaluate(self, x=None, y=None,\n",
      "\u001b[1;32me:\\users\\ranet\\anaconda3\\lib\\site-packages\\keras\\engine\\training.py\u001b[0m in \u001b[0;36m_fit_loop\u001b[1;34m(self, f, ins, out_labels, batch_size, epochs, verbose, callbacks, val_f, val_ins, shuffle, callback_metrics, initial_epoch, steps_per_epoch, validation_steps)\u001b[0m\n\u001b[0;32m   1233\u001b[0m                         \u001b[0mins_batch\u001b[0m\u001b[1;33m[\u001b[0m\u001b[0mi\u001b[0m\u001b[1;33m]\u001b[0m \u001b[1;33m=\u001b[0m \u001b[0mins_batch\u001b[0m\u001b[1;33m[\u001b[0m\u001b[0mi\u001b[0m\u001b[1;33m]\u001b[0m\u001b[1;33m.\u001b[0m\u001b[0mtoarray\u001b[0m\u001b[1;33m(\u001b[0m\u001b[1;33m)\u001b[0m\u001b[1;33m\u001b[0m\u001b[0m\n\u001b[0;32m   1234\u001b[0m \u001b[1;33m\u001b[0m\u001b[0m\n\u001b[1;32m-> 1235\u001b[1;33m                     \u001b[0mouts\u001b[0m \u001b[1;33m=\u001b[0m \u001b[0mf\u001b[0m\u001b[1;33m(\u001b[0m\u001b[0mins_batch\u001b[0m\u001b[1;33m)\u001b[0m\u001b[1;33m\u001b[0m\u001b[0m\n\u001b[0m\u001b[0;32m   1236\u001b[0m                     \u001b[1;32mif\u001b[0m \u001b[1;32mnot\u001b[0m \u001b[0misinstance\u001b[0m\u001b[1;33m(\u001b[0m\u001b[0mouts\u001b[0m\u001b[1;33m,\u001b[0m \u001b[0mlist\u001b[0m\u001b[1;33m)\u001b[0m\u001b[1;33m:\u001b[0m\u001b[1;33m\u001b[0m\u001b[0m\n\u001b[0;32m   1237\u001b[0m                         \u001b[0mouts\u001b[0m \u001b[1;33m=\u001b[0m \u001b[1;33m[\u001b[0m\u001b[0mouts\u001b[0m\u001b[1;33m]\u001b[0m\u001b[1;33m\u001b[0m\u001b[0m\n",
      "\u001b[1;32me:\\users\\ranet\\anaconda3\\lib\\site-packages\\keras\\backend\\tensorflow_backend.py\u001b[0m in \u001b[0;36m__call__\u001b[1;34m(self, inputs)\u001b[0m\n\u001b[0;32m   2473\u001b[0m         \u001b[0msession\u001b[0m \u001b[1;33m=\u001b[0m \u001b[0mget_session\u001b[0m\u001b[1;33m(\u001b[0m\u001b[1;33m)\u001b[0m\u001b[1;33m\u001b[0m\u001b[0m\n\u001b[0;32m   2474\u001b[0m         updated = session.run(fetches=fetches, feed_dict=feed_dict,\n\u001b[1;32m-> 2475\u001b[1;33m                               **self.session_kwargs)\n\u001b[0m\u001b[0;32m   2476\u001b[0m         \u001b[1;32mreturn\u001b[0m \u001b[0mupdated\u001b[0m\u001b[1;33m[\u001b[0m\u001b[1;33m:\u001b[0m\u001b[0mlen\u001b[0m\u001b[1;33m(\u001b[0m\u001b[0mself\u001b[0m\u001b[1;33m.\u001b[0m\u001b[0moutputs\u001b[0m\u001b[1;33m)\u001b[0m\u001b[1;33m]\u001b[0m\u001b[1;33m\u001b[0m\u001b[0m\n\u001b[0;32m   2477\u001b[0m \u001b[1;33m\u001b[0m\u001b[0m\n",
      "\u001b[1;32me:\\users\\ranet\\anaconda3\\lib\\site-packages\\tensorflow\\python\\client\\session.py\u001b[0m in \u001b[0;36mrun\u001b[1;34m(self, fetches, feed_dict, options, run_metadata)\u001b[0m\n\u001b[0;32m    893\u001b[0m     \u001b[1;32mtry\u001b[0m\u001b[1;33m:\u001b[0m\u001b[1;33m\u001b[0m\u001b[0m\n\u001b[0;32m    894\u001b[0m       result = self._run(None, fetches, feed_dict, options_ptr,\n\u001b[1;32m--> 895\u001b[1;33m                          run_metadata_ptr)\n\u001b[0m\u001b[0;32m    896\u001b[0m       \u001b[1;32mif\u001b[0m \u001b[0mrun_metadata\u001b[0m\u001b[1;33m:\u001b[0m\u001b[1;33m\u001b[0m\u001b[0m\n\u001b[0;32m    897\u001b[0m         \u001b[0mproto_data\u001b[0m \u001b[1;33m=\u001b[0m \u001b[0mtf_session\u001b[0m\u001b[1;33m.\u001b[0m\u001b[0mTF_GetBuffer\u001b[0m\u001b[1;33m(\u001b[0m\u001b[0mrun_metadata_ptr\u001b[0m\u001b[1;33m)\u001b[0m\u001b[1;33m\u001b[0m\u001b[0m\n",
      "\u001b[1;32me:\\users\\ranet\\anaconda3\\lib\\site-packages\\tensorflow\\python\\client\\session.py\u001b[0m in \u001b[0;36m_run\u001b[1;34m(self, handle, fetches, feed_dict, options, run_metadata)\u001b[0m\n\u001b[0;32m   1126\u001b[0m     \u001b[1;32mif\u001b[0m \u001b[0mfinal_fetches\u001b[0m \u001b[1;32mor\u001b[0m \u001b[0mfinal_targets\u001b[0m \u001b[1;32mor\u001b[0m \u001b[1;33m(\u001b[0m\u001b[0mhandle\u001b[0m \u001b[1;32mand\u001b[0m \u001b[0mfeed_dict_tensor\u001b[0m\u001b[1;33m)\u001b[0m\u001b[1;33m:\u001b[0m\u001b[1;33m\u001b[0m\u001b[0m\n\u001b[0;32m   1127\u001b[0m       results = self._do_run(handle, final_targets, final_fetches,\n\u001b[1;32m-> 1128\u001b[1;33m                              feed_dict_tensor, options, run_metadata)\n\u001b[0m\u001b[0;32m   1129\u001b[0m     \u001b[1;32melse\u001b[0m\u001b[1;33m:\u001b[0m\u001b[1;33m\u001b[0m\u001b[0m\n\u001b[0;32m   1130\u001b[0m       \u001b[0mresults\u001b[0m \u001b[1;33m=\u001b[0m \u001b[1;33m[\u001b[0m\u001b[1;33m]\u001b[0m\u001b[1;33m\u001b[0m\u001b[0m\n",
      "\u001b[1;32me:\\users\\ranet\\anaconda3\\lib\\site-packages\\tensorflow\\python\\client\\session.py\u001b[0m in \u001b[0;36m_do_run\u001b[1;34m(self, handle, target_list, fetch_list, feed_dict, options, run_metadata)\u001b[0m\n\u001b[0;32m   1342\u001b[0m     \u001b[1;32mif\u001b[0m \u001b[0mhandle\u001b[0m \u001b[1;32mis\u001b[0m \u001b[1;32mNone\u001b[0m\u001b[1;33m:\u001b[0m\u001b[1;33m\u001b[0m\u001b[0m\n\u001b[0;32m   1343\u001b[0m       return self._do_call(_run_fn, self._session, feeds, fetches, targets,\n\u001b[1;32m-> 1344\u001b[1;33m                            options, run_metadata)\n\u001b[0m\u001b[0;32m   1345\u001b[0m     \u001b[1;32melse\u001b[0m\u001b[1;33m:\u001b[0m\u001b[1;33m\u001b[0m\u001b[0m\n\u001b[0;32m   1346\u001b[0m       \u001b[1;32mreturn\u001b[0m \u001b[0mself\u001b[0m\u001b[1;33m.\u001b[0m\u001b[0m_do_call\u001b[0m\u001b[1;33m(\u001b[0m\u001b[0m_prun_fn\u001b[0m\u001b[1;33m,\u001b[0m \u001b[0mself\u001b[0m\u001b[1;33m.\u001b[0m\u001b[0m_session\u001b[0m\u001b[1;33m,\u001b[0m \u001b[0mhandle\u001b[0m\u001b[1;33m,\u001b[0m \u001b[0mfeeds\u001b[0m\u001b[1;33m,\u001b[0m \u001b[0mfetches\u001b[0m\u001b[1;33m)\u001b[0m\u001b[1;33m\u001b[0m\u001b[0m\n",
      "\u001b[1;32me:\\users\\ranet\\anaconda3\\lib\\site-packages\\tensorflow\\python\\client\\session.py\u001b[0m in \u001b[0;36m_do_call\u001b[1;34m(self, fn, *args)\u001b[0m\n\u001b[0;32m   1348\u001b[0m   \u001b[1;32mdef\u001b[0m \u001b[0m_do_call\u001b[0m\u001b[1;33m(\u001b[0m\u001b[0mself\u001b[0m\u001b[1;33m,\u001b[0m \u001b[0mfn\u001b[0m\u001b[1;33m,\u001b[0m \u001b[1;33m*\u001b[0m\u001b[0margs\u001b[0m\u001b[1;33m)\u001b[0m\u001b[1;33m:\u001b[0m\u001b[1;33m\u001b[0m\u001b[0m\n\u001b[0;32m   1349\u001b[0m     \u001b[1;32mtry\u001b[0m\u001b[1;33m:\u001b[0m\u001b[1;33m\u001b[0m\u001b[0m\n\u001b[1;32m-> 1350\u001b[1;33m       \u001b[1;32mreturn\u001b[0m \u001b[0mfn\u001b[0m\u001b[1;33m(\u001b[0m\u001b[1;33m*\u001b[0m\u001b[0margs\u001b[0m\u001b[1;33m)\u001b[0m\u001b[1;33m\u001b[0m\u001b[0m\n\u001b[0m\u001b[0;32m   1351\u001b[0m     \u001b[1;32mexcept\u001b[0m \u001b[0merrors\u001b[0m\u001b[1;33m.\u001b[0m\u001b[0mOpError\u001b[0m \u001b[1;32mas\u001b[0m \u001b[0me\u001b[0m\u001b[1;33m:\u001b[0m\u001b[1;33m\u001b[0m\u001b[0m\n\u001b[0;32m   1352\u001b[0m       \u001b[0mmessage\u001b[0m \u001b[1;33m=\u001b[0m \u001b[0mcompat\u001b[0m\u001b[1;33m.\u001b[0m\u001b[0mas_text\u001b[0m\u001b[1;33m(\u001b[0m\u001b[0me\u001b[0m\u001b[1;33m.\u001b[0m\u001b[0mmessage\u001b[0m\u001b[1;33m)\u001b[0m\u001b[1;33m\u001b[0m\u001b[0m\n",
      "\u001b[1;32me:\\users\\ranet\\anaconda3\\lib\\site-packages\\tensorflow\\python\\client\\session.py\u001b[0m in \u001b[0;36m_run_fn\u001b[1;34m(session, feed_dict, fetch_list, target_list, options, run_metadata)\u001b[0m\n\u001b[0;32m   1327\u001b[0m           return tf_session.TF_Run(session, options,\n\u001b[0;32m   1328\u001b[0m                                    \u001b[0mfeed_dict\u001b[0m\u001b[1;33m,\u001b[0m \u001b[0mfetch_list\u001b[0m\u001b[1;33m,\u001b[0m \u001b[0mtarget_list\u001b[0m\u001b[1;33m,\u001b[0m\u001b[1;33m\u001b[0m\u001b[0m\n\u001b[1;32m-> 1329\u001b[1;33m                                    status, run_metadata)\n\u001b[0m\u001b[0;32m   1330\u001b[0m \u001b[1;33m\u001b[0m\u001b[0m\n\u001b[0;32m   1331\u001b[0m     \u001b[1;32mdef\u001b[0m \u001b[0m_prun_fn\u001b[0m\u001b[1;33m(\u001b[0m\u001b[0msession\u001b[0m\u001b[1;33m,\u001b[0m \u001b[0mhandle\u001b[0m\u001b[1;33m,\u001b[0m \u001b[0mfeed_dict\u001b[0m\u001b[1;33m,\u001b[0m \u001b[0mfetch_list\u001b[0m\u001b[1;33m)\u001b[0m\u001b[1;33m:\u001b[0m\u001b[1;33m\u001b[0m\u001b[0m\n",
      "\u001b[1;31mKeyboardInterrupt\u001b[0m: "
     ]
    }
   ],
   "source": [
    "num_epochs = 50\n",
    "batch_size = 128\n",
    "\n",
    "model.fit(X_tokenized, y_oh, epochs=num_epochs, batch_size=batch_size, verbose=1, validation_data=(X_val_tokenized, y_val_oh))"
   ]
  },
  {
   "cell_type": "code",
   "execution_count": null,
   "metadata": {},
   "outputs": [],
   "source": []
  },
  {
   "cell_type": "code",
   "execution_count": null,
   "metadata": {},
   "outputs": [],
   "source": []
  },
  {
   "cell_type": "code",
   "execution_count": null,
   "metadata": {},
   "outputs": [],
   "source": []
  },
  {
   "cell_type": "code",
   "execution_count": null,
   "metadata": {},
   "outputs": [],
   "source": []
  },
  {
   "cell_type": "code",
   "execution_count": null,
   "metadata": {},
   "outputs": [],
   "source": []
  },
  {
   "cell_type": "code",
   "execution_count": null,
   "metadata": {},
   "outputs": [],
   "source": []
  },
  {
   "cell_type": "code",
   "execution_count": null,
   "metadata": {},
   "outputs": [],
   "source": []
  },
  {
   "cell_type": "code",
   "execution_count": null,
   "metadata": {},
   "outputs": [],
   "source": []
  },
  {
   "cell_type": "code",
   "execution_count": null,
   "metadata": {},
   "outputs": [],
   "source": []
  },
  {
   "cell_type": "code",
   "execution_count": null,
   "metadata": {},
   "outputs": [],
   "source": []
  },
  {
   "cell_type": "code",
   "execution_count": null,
   "metadata": {},
   "outputs": [],
   "source": []
  }
 ],
 "metadata": {
  "kernelspec": {
   "display_name": "Python 3",
   "language": "python",
   "name": "python3"
  },
  "language_info": {
   "codemirror_mode": {
    "name": "ipython",
    "version": 3
   },
   "file_extension": ".py",
   "mimetype": "text/x-python",
   "name": "python",
   "nbconvert_exporter": "python",
   "pygments_lexer": "ipython3",
   "version": "3.6.4"
  }
 },
 "nbformat": 4,
 "nbformat_minor": 2
}
